{
 "cells": [
  {
   "cell_type": "code",
   "execution_count": null,
   "id": "beec88cd-c584-40a2-97d8-bccb8a963816",
   "metadata": {},
   "outputs": [],
   "source": [
    "# Dunder means double underscore infront and double underscore behind.\n",
    "# __init__ is one type of dunder.\n",
    "\n",
    "# GENERALLY AVOID DUNDER FUNCTION BCZ. IT'S AUTOMATICALLY USED BY PYTHON."
   ]
  },
  {
   "cell_type": "code",
   "execution_count": 1,
   "id": "1504962a-0827-45d1-a12a-0cb5748eca3c",
   "metadata": {},
   "outputs": [
    {
     "data": {
      "text/plain": [
       "['__abs__',\n",
       " '__add__',\n",
       " '__and__',\n",
       " '__bool__',\n",
       " '__ceil__',\n",
       " '__class__',\n",
       " '__delattr__',\n",
       " '__dir__',\n",
       " '__divmod__',\n",
       " '__doc__',\n",
       " '__eq__',\n",
       " '__float__',\n",
       " '__floor__',\n",
       " '__floordiv__',\n",
       " '__format__',\n",
       " '__ge__',\n",
       " '__getattribute__',\n",
       " '__getnewargs__',\n",
       " '__gt__',\n",
       " '__hash__',\n",
       " '__index__',\n",
       " '__init__',\n",
       " '__init_subclass__',\n",
       " '__int__',\n",
       " '__invert__',\n",
       " '__le__',\n",
       " '__lshift__',\n",
       " '__lt__',\n",
       " '__mod__',\n",
       " '__mul__',\n",
       " '__ne__',\n",
       " '__neg__',\n",
       " '__new__',\n",
       " '__or__',\n",
       " '__pos__',\n",
       " '__pow__',\n",
       " '__radd__',\n",
       " '__rand__',\n",
       " '__rdivmod__',\n",
       " '__reduce__',\n",
       " '__reduce_ex__',\n",
       " '__repr__',\n",
       " '__rfloordiv__',\n",
       " '__rlshift__',\n",
       " '__rmod__',\n",
       " '__rmul__',\n",
       " '__ror__',\n",
       " '__round__',\n",
       " '__rpow__',\n",
       " '__rrshift__',\n",
       " '__rshift__',\n",
       " '__rsub__',\n",
       " '__rtruediv__',\n",
       " '__rxor__',\n",
       " '__setattr__',\n",
       " '__sizeof__',\n",
       " '__str__',\n",
       " '__sub__',\n",
       " '__subclasshook__',\n",
       " '__truediv__',\n",
       " '__trunc__',\n",
       " '__xor__',\n",
       " 'as_integer_ratio',\n",
       " 'bit_count',\n",
       " 'bit_length',\n",
       " 'conjugate',\n",
       " 'denominator',\n",
       " 'from_bytes',\n",
       " 'imag',\n",
       " 'numerator',\n",
       " 'real',\n",
       " 'to_bytes']"
      ]
     },
     "execution_count": 1,
     "metadata": {},
     "output_type": "execute_result"
    }
   ],
   "source": [
    "dir(int)"
   ]
  },
  {
   "cell_type": "code",
   "execution_count": 2,
   "id": "50489e0b-3770-4394-a506-8e3263b1721c",
   "metadata": {},
   "outputs": [
    {
     "data": {
      "text/plain": [
       "['__add__',\n",
       " '__class__',\n",
       " '__contains__',\n",
       " '__delattr__',\n",
       " '__dir__',\n",
       " '__doc__',\n",
       " '__eq__',\n",
       " '__format__',\n",
       " '__ge__',\n",
       " '__getattribute__',\n",
       " '__getitem__',\n",
       " '__getnewargs__',\n",
       " '__gt__',\n",
       " '__hash__',\n",
       " '__init__',\n",
       " '__init_subclass__',\n",
       " '__iter__',\n",
       " '__le__',\n",
       " '__len__',\n",
       " '__lt__',\n",
       " '__mod__',\n",
       " '__mul__',\n",
       " '__ne__',\n",
       " '__new__',\n",
       " '__reduce__',\n",
       " '__reduce_ex__',\n",
       " '__repr__',\n",
       " '__rmod__',\n",
       " '__rmul__',\n",
       " '__setattr__',\n",
       " '__sizeof__',\n",
       " '__str__',\n",
       " '__subclasshook__',\n",
       " 'capitalize',\n",
       " 'casefold',\n",
       " 'center',\n",
       " 'count',\n",
       " 'encode',\n",
       " 'endswith',\n",
       " 'expandtabs',\n",
       " 'find',\n",
       " 'format',\n",
       " 'format_map',\n",
       " 'index',\n",
       " 'isalnum',\n",
       " 'isalpha',\n",
       " 'isascii',\n",
       " 'isdecimal',\n",
       " 'isdigit',\n",
       " 'isidentifier',\n",
       " 'islower',\n",
       " 'isnumeric',\n",
       " 'isprintable',\n",
       " 'isspace',\n",
       " 'istitle',\n",
       " 'isupper',\n",
       " 'join',\n",
       " 'ljust',\n",
       " 'lower',\n",
       " 'lstrip',\n",
       " 'maketrans',\n",
       " 'partition',\n",
       " 'removeprefix',\n",
       " 'removesuffix',\n",
       " 'replace',\n",
       " 'rfind',\n",
       " 'rindex',\n",
       " 'rjust',\n",
       " 'rpartition',\n",
       " 'rsplit',\n",
       " 'rstrip',\n",
       " 'split',\n",
       " 'splitlines',\n",
       " 'startswith',\n",
       " 'strip',\n",
       " 'swapcase',\n",
       " 'title',\n",
       " 'translate',\n",
       " 'upper',\n",
       " 'zfill']"
      ]
     },
     "execution_count": 2,
     "metadata": {},
     "output_type": "execute_result"
    }
   ],
   "source": [
    "dir(str)"
   ]
  },
  {
   "cell_type": "code",
   "execution_count": 1,
   "id": "712ffdef-1a96-4b9b-9386-8eadc545998b",
   "metadata": {},
   "outputs": [
    {
     "data": {
      "text/plain": [
       "105"
      ]
     },
     "execution_count": 1,
     "metadata": {},
     "output_type": "execute_result"
    }
   ],
   "source": [
    "a = 100\n",
    "a + 5"
   ]
  },
  {
   "cell_type": "code",
   "execution_count": 2,
   "id": "0d138735-18da-439b-986c-da6ed887410e",
   "metadata": {},
   "outputs": [
    {
     "data": {
      "text/plain": [
       "105"
      ]
     },
     "execution_count": 2,
     "metadata": {},
     "output_type": "execute_result"
    }
   ],
   "source": [
    "a.__add__(5)"
   ]
  },
  {
   "cell_type": "code",
   "execution_count": 3,
   "id": "e78cc752-26b7-41e6-8d3a-c936d6e05bbf",
   "metadata": {},
   "outputs": [],
   "source": [
    "class pwskills :\n",
    "    def __init__(self) :\n",
    "        self.mobile_number = 987654"
   ]
  },
  {
   "cell_type": "code",
   "execution_count": 4,
   "id": "39057277-57bd-48f6-a10e-4d473dc1ff62",
   "metadata": {},
   "outputs": [
    {
     "data": {
      "text/plain": [
       "987654"
      ]
     },
     "execution_count": 4,
     "metadata": {},
     "output_type": "execute_result"
    }
   ],
   "source": [
    "pw = pwskills()\n",
    "pw.mobile_number"
   ]
  },
  {
   "cell_type": "code",
   "execution_count": 5,
   "id": "4a060ede-9a43-4da0-9075-2b95d598285c",
   "metadata": {},
   "outputs": [],
   "source": [
    "# before __init__, __new__ is called.\n",
    "# here, __new__ is a dunder.\n",
    "# here is the prove :\n",
    "\n",
    "# case no 1 :\n",
    "class pwskills :\n",
    "    \n",
    "    def __new__(cls) :\n",
    "        print('This is my new')\n",
    "        \n",
    "    def __init__(self) :\n",
    "        print('This is my init')\n",
    "        self.mobile_number = 987654"
   ]
  },
  {
   "cell_type": "code",
   "execution_count": 6,
   "id": "5f9f723a-c50a-473e-b3ff-37800530c594",
   "metadata": {},
   "outputs": [
    {
     "name": "stdout",
     "output_type": "stream",
     "text": [
      "This is my new\n"
     ]
    }
   ],
   "source": [
    "pw = pwskills()"
   ]
  },
  {
   "cell_type": "code",
   "execution_count": 9,
   "id": "d3c9fffd-fab7-443b-9289-f664a5fd60ac",
   "metadata": {},
   "outputs": [],
   "source": [
    "# case no 2 :\n",
    "class pwskills :\n",
    "    \n",
    "    def __init__(self) :\n",
    "        print('This is my init')\n",
    "        self.mobile_number = 987654\n",
    "        \n",
    "    def __new__(cls) :\n",
    "        print('This is my new')"
   ]
  },
  {
   "cell_type": "code",
   "execution_count": 10,
   "id": "f1ff2e9a-76d0-42e2-aa6b-29f964ad3224",
   "metadata": {},
   "outputs": [
    {
     "name": "stdout",
     "output_type": "stream",
     "text": [
      "This is my new\n"
     ]
    }
   ],
   "source": [
    "pw = pwskills()"
   ]
  },
  {
   "cell_type": "code",
   "execution_count": null,
   "id": "e44f79eb-36b9-4628-80e1-e5f47102dea3",
   "metadata": {},
   "outputs": [],
   "source": [
    "# in upper case, every time __new__ is called first then __init__.\n",
    "# this is called magic dunder method."
   ]
  },
  {
   "cell_type": "code",
   "execution_count": 15,
   "id": "66dde589-8c76-483c-be79-1651023b78f1",
   "metadata": {},
   "outputs": [],
   "source": [
    "class pwskills1 :\n",
    "     def __init__(self) :\n",
    "        self.mobile_number = 987654"
   ]
  },
  {
   "cell_type": "code",
   "execution_count": 16,
   "id": "d6578470-3115-4ec3-9542-5fce85f77ef2",
   "metadata": {},
   "outputs": [
    {
     "data": {
      "text/plain": [
       "<__main__.pwskills1 at 0x7fe96a329f60>"
      ]
     },
     "execution_count": 16,
     "metadata": {},
     "output_type": "execute_result"
    }
   ],
   "source": [
    "pw1 = pwskills1()\n",
    "pw1"
   ]
  },
  {
   "cell_type": "code",
   "execution_count": 28,
   "id": "98460301-a888-4767-8738-73f25180e09a",
   "metadata": {},
   "outputs": [],
   "source": [
    "class pwskills1 :\n",
    "    def __init__(self) :\n",
    "        self.mobile_number = 987654\n",
    "        \n",
    "    def __str__(self) :\n",
    "        return 'This is my magic'"
   ]
  },
  {
   "cell_type": "code",
   "execution_count": 29,
   "id": "4e4d919b-0534-4efa-9bb6-cf9db8495b8d",
   "metadata": {},
   "outputs": [
    {
     "data": {
      "text/plain": [
       "<__main__.pwskills1 at 0x7fe96a3a4280>"
      ]
     },
     "execution_count": 29,
     "metadata": {},
     "output_type": "execute_result"
    }
   ],
   "source": [
    "pw1 = pwskills1()\n",
    "pw1"
   ]
  },
  {
   "cell_type": "code",
   "execution_count": 30,
   "id": "4e90906c-1a4e-424a-8a4a-c896d832df61",
   "metadata": {},
   "outputs": [
    {
     "name": "stdout",
     "output_type": "stream",
     "text": [
      "This is my magic\n"
     ]
    }
   ],
   "source": [
    "print(pw1)"
   ]
  }
 ],
 "metadata": {
  "kernelspec": {
   "display_name": "Python 3 (ipykernel)",
   "language": "python",
   "name": "python3"
  },
  "language_info": {
   "codemirror_mode": {
    "name": "ipython",
    "version": 3
   },
   "file_extension": ".py",
   "mimetype": "text/x-python",
   "name": "python",
   "nbconvert_exporter": "python",
   "pygments_lexer": "ipython3",
   "version": "3.10.8"
  }
 },
 "nbformat": 4,
 "nbformat_minor": 5
}
